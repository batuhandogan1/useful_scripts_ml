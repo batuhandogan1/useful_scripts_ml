{
 "cells": [
  {
   "cell_type": "code",
   "execution_count": 2,
   "metadata": {},
   "outputs": [],
   "source": [
    "import os"
   ]
  },
  {
   "cell_type": "code",
   "execution_count": 23,
   "metadata": {},
   "outputs": [
    {
     "name": "stdout",
     "output_type": "stream",
     "text": [
      "10\n"
     ]
    }
   ],
   "source": [
    "path = '/home/bdogan/Desktop/avustralya/'\n",
    "\n",
    "files = os.listdir(path)\n",
    "\n",
    "count = 0\n",
    "\n",
    "for file in files:\n",
    "    if file.endswith('.txt'):\n",
    "\n",
    "        with open(path + file,'r') as f:\n",
    "            for line in f:\n",
    "                if (line.split(' ')[0] == '26'):\n",
    "                    count += 1\n",
    "print(count)"
   ]
  },
  {
   "cell_type": "code",
   "execution_count": 20,
   "metadata": {},
   "outputs": [],
   "source": [
    "# X classı bulunan image ve labelleri bir klasöre at\n",
    "\n",
    "import shutil\n",
    "\n",
    "source_path = '/home/bdogan/Desktop/temp/'\n",
    "destination_path = '/home/bdogan/Desktop/tmp/'\n",
    "\n",
    "files = os.listdir(source_path)\n",
    "\n",
    "\n",
    "for file in files:\n",
    "    temp = file.split('.txt')\n",
    "\n",
    "    if file.endswith('.txt'):\n",
    "\n",
    "        with open(path + file,'r') as f:\n",
    "            for line in f:\n",
    "                if (line.split(' ')[0] == '13'):\n",
    "                    shutil.move(source_path + temp[0] + '.jpg', destination_path + temp[0] + '.jpg')\n",
    "                    shutil.move(source_path + temp[0] + '.txt', destination_path + temp[0] + '.txt')\n",
    "                    break"
   ]
  },
  {
   "cell_type": "code",
   "execution_count": 5,
   "metadata": {},
   "outputs": [
    {
     "name": "stdout",
     "output_type": "stream",
     "text": [
      "0\n"
     ]
    }
   ],
   "source": [
    "################################################\n",
    "#       Is labels contain greater than x       #\n",
    "################################################\n",
    "\n",
    "\n",
    "path = '/home/bdogan/all_files/ekin_files/plate_character_detection/kosova_plate_character_detection/kosova_character_dataset/'\n",
    "\n",
    "files = os.listdir(path)\n",
    "\n",
    "count = 0\n",
    "\n",
    "for file in files:\n",
    "    if file.endswith('.txt'):\n",
    "\n",
    "        with open(path + file,'r') as f:\n",
    "            for line in f:\n",
    "                if (int(line.split(' ')[0]) > 35):\n",
    "                    count += 1\n",
    "                    print(file)\n",
    "print(count)"
   ]
  },
  {
   "cell_type": "markdown",
   "metadata": {},
   "source": [
    "* 2 -> 1297\n",
    "* 3 -> 29183\n",
    "* 5 -> 3312\n",
    "* 7 -> 1560"
   ]
  }
 ],
 "metadata": {
  "kernelspec": {
   "display_name": "yolov7",
   "language": "python",
   "name": "python3"
  },
  "language_info": {
   "codemirror_mode": {
    "name": "ipython",
    "version": 3
   },
   "file_extension": ".py",
   "mimetype": "text/x-python",
   "name": "python",
   "nbconvert_exporter": "python",
   "pygments_lexer": "ipython3",
   "version": "3.9.17"
  },
  "orig_nbformat": 4
 },
 "nbformat": 4,
 "nbformat_minor": 2
}
