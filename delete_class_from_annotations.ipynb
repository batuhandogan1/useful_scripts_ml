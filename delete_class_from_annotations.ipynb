{
 "cells": [
  {
   "cell_type": "code",
   "execution_count": 13,
   "metadata": {},
   "outputs": [],
   "source": [
    "import os"
   ]
  },
  {
   "cell_type": "code",
   "execution_count": 19,
   "metadata": {},
   "outputs": [],
   "source": [
    "path = '/home/bdogan/all_files/ekin_files/general_plate_character/General_Plate_Character_Sum_Dataset/'\n",
    "files = os.listdir(path)\n",
    "\n",
    "for file_name in files:\n",
    "    if file_name.endswith('.txt'):\n",
    "        with open(os.path.join(path, file_name), \"r\") as file:\n",
    "            lines = file.readlines()\n",
    "\n",
    "        new_lines = []\n",
    "        for line in lines:\n",
    "            if not line.startswith('36'):  # Change this number for delete different classes\n",
    "                new_lines.append(line)\n",
    "\n",
    "        with open(os.path.join(path, file_name), \"w\") as file:\n",
    "            file.writelines(new_lines)"
   ]
  }
 ],
 "metadata": {
  "kernelspec": {
   "display_name": "yolov7",
   "language": "python",
   "name": "python3"
  },
  "language_info": {
   "codemirror_mode": {
    "name": "ipython",
    "version": 3
   },
   "file_extension": ".py",
   "mimetype": "text/x-python",
   "name": "python",
   "nbconvert_exporter": "python",
   "pygments_lexer": "ipython3",
   "version": "3.9.17"
  }
 },
 "nbformat": 4,
 "nbformat_minor": 2
}
