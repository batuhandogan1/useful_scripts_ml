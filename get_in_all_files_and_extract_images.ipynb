{
 "cells": [
  {
   "cell_type": "code",
   "execution_count": 1,
   "metadata": {},
   "outputs": [],
   "source": [
    "import os\n",
    "import shutil"
   ]
  },
  {
   "cell_type": "code",
   "execution_count": 2,
   "metadata": {},
   "outputs": [],
   "source": [
    "##########################################\n",
    "#       Cvat raw images to dataset       #\n",
    "##########################################\n",
    "\n",
    "\n",
    "src_path = '/home/bdogan/Desktop/avustralya_character_datasets'\n",
    "dst_path = '/home/bdogan/Desktop/temp'\n",
    "\n",
    "files = os.listdir(src_path)\n",
    "\n",
    "\n",
    "for file in files:\n",
    "    images = os.listdir(src_path + '/' + file + '/' + 'images')\n",
    "\n",
    "    for image in images:\n",
    "        shutil.copy(src_path + '/' + file + '/' + 'images' + '/' + image, dst_path)\n",
    "\n",
    "    annotations = os.listdir(src_path + '/' + file + '/' + 'labels')\n",
    "\n",
    "    for annotation in annotations:\n",
    "        shutil.copy(src_path + '/' + file + '/' + 'labels' + '/' + annotation, dst_path)"
   ]
  }
 ],
 "metadata": {
  "kernelspec": {
   "display_name": "yolov7",
   "language": "python",
   "name": "python3"
  },
  "language_info": {
   "codemirror_mode": {
    "name": "ipython",
    "version": 3
   },
   "file_extension": ".py",
   "mimetype": "text/x-python",
   "name": "python",
   "nbconvert_exporter": "python",
   "pygments_lexer": "ipython3",
   "version": "3.9.17"
  }
 },
 "nbformat": 4,
 "nbformat_minor": 2
}
