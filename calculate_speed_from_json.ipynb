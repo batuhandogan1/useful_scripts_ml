{
 "cells": [
  {
   "cell_type": "code",
   "execution_count": 1,
   "metadata": {},
   "outputs": [],
   "source": [
    "import os\n",
    "from json import load\n",
    "from json import JSONDecodeError"
   ]
  },
  {
   "cell_type": "code",
   "execution_count": 6,
   "metadata": {},
   "outputs": [
    {
     "name": "stdout",
     "output_type": "stream",
     "text": [
      "21.316136919315383\n",
      "26.27696078431371\n",
      "27.40384615384615\n",
      "34.802743142144635\n"
     ]
    }
   ],
   "source": [
    "path = '/home/bdogan/Downloads/tmp/'\n",
    "error = 0\n",
    "\n",
    "files = os.listdir(path)\n",
    "\n",
    "for file in files:\n",
    "    jsons_x = os.listdir(path + file)\n",
    "\n",
    "    for json_x in jsons_x:\n",
    "        try:\n",
    "            with open(os.path.join(path, file, json_x)) as f:\n",
    "                data = load(f)\n",
    "            if 'secondarySpeed' in data and 'initialSnapshot' in data and data['secondarySpeed'] is not None and data['initialSnapshot']['speed'] is not None:\n",
    "                error = ((data['secondarySpeed'] - data['initialSnapshot']['speed']) / data['initialSnapshot']['speed']) * 100\n",
    "                error = abs(error)\n",
    "                if error > 20:\n",
    "                    print(error)\n",
    "        except (FileNotFoundError, JSONDecodeError, KeyError) as e:\n",
    "            print(f\"Error reading {json_x}: {e}\")"
   ]
  }
 ],
 "metadata": {
  "kernelspec": {
   "display_name": "yolov7",
   "language": "python",
   "name": "python3"
  },
  "language_info": {
   "codemirror_mode": {
    "name": "ipython",
    "version": 3
   },
   "file_extension": ".py",
   "mimetype": "text/x-python",
   "name": "python",
   "nbconvert_exporter": "python",
   "pygments_lexer": "ipython3",
   "version": "3.9.17"
  }
 },
 "nbformat": 4,
 "nbformat_minor": 2
}
