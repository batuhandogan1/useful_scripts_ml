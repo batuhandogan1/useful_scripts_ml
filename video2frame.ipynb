{
 "cells": [
  {
   "cell_type": "code",
   "execution_count": 8,
   "metadata": {},
   "outputs": [],
   "source": [
    "import cv2\n",
    "import uuid\n",
    "import os"
   ]
  },
  {
   "cell_type": "code",
   "execution_count": 9,
   "metadata": {},
   "outputs": [],
   "source": [
    "# Video yolunu ver\n",
    "src_path = '/home/bdogan/Desktop/test_videos/'\n",
    "dst_path = '/home/bdogan/Desktop/test_frames/'"
   ]
  },
  {
   "cell_type": "code",
   "execution_count": 10,
   "metadata": {},
   "outputs": [],
   "source": [
    "def give_random_name():\n",
    "\n",
    "    filename = str(uuid.uuid4())\n",
    "    arr = filename.split('-')\n",
    "    \n",
    "    return arr[0]"
   ]
  },
  {
   "cell_type": "code",
   "execution_count": null,
   "metadata": {},
   "outputs": [],
   "source": [
    "#############################################\n",
    "#               Single Video                #\n",
    "#############################################\n",
    "\n",
    "random_name = give_random_name()\n",
    "\n",
    "vidcap = cv2.VideoCapture(src_path)\n",
    "success,image = vidcap.read()\n",
    "count = 0\n",
    "name = 0\n",
    "frame_part = 1 ### Kaç frame de bir alınacak.\n",
    "while success:\n",
    "    # Kaç framede bir kaydedecek countu değiştir\n",
    "    if count % frame_part == 0:\n",
    "        cv2.imwrite(dst_path + f\"{random_name}_frame{name}.jpg\", image)     # save frame as JPEG file\n",
    "        name += 1\n",
    "\n",
    "    success,image = vidcap.read()\n",
    "    count += 1"
   ]
  },
  {
   "cell_type": "code",
   "execution_count": 11,
   "metadata": {},
   "outputs": [],
   "source": [
    "#############################################\n",
    "#             Multiple Videos               #\n",
    "#############################################\n",
    "\n",
    "videos = os.listdir(src_path)\n",
    "\n",
    "for video in videos:\n",
    "\n",
    "    random_name = give_random_name()\n",
    "\n",
    "    vidcap = cv2.VideoCapture(src_path + video)\n",
    "    success, image = vidcap.read()\n",
    "    count = 0\n",
    "    name = 0\n",
    "    frame_part = 26 ### Kaç frame de bir alınacak.\n",
    "    while success:\n",
    "        # Kaç framede bir kaydedecek countu değiştir\n",
    "        if count % frame_part == 0:\n",
    "            cv2.imwrite(dst_path + f\"{random_name}_frame{name}.jpg\", image)     # save frame as JPEG file      \n",
    "            name += 1\n",
    "\n",
    "        success, image = vidcap.read()\n",
    "        count += 1"
   ]
  },
  {
   "cell_type": "code",
   "execution_count": 4,
   "metadata": {},
   "outputs": [
    {
     "name": "stdout",
     "output_type": "stream",
     "text": [
      "29.97002997002997\n"
     ]
    }
   ],
   "source": [
    "#############################################\n",
    "#               Video kaç fps               #\n",
    "#############################################\n",
    "\n",
    "cam = cv2.VideoCapture('/home/bdogan/Desktop/video_1/1bec7baa-b0ab-4f6a-87f6-b983bdb48d27_v.mp4')\n",
    "fps = cam.get(cv2.CAP_PROP_FPS)\n",
    "\n",
    "print(fps)"
   ]
  },
  {
   "cell_type": "code",
   "execution_count": 7,
   "metadata": {},
   "outputs": [
    {
     "name": "stdout",
     "output_type": "stream",
     "text": [
      "18768\n"
     ]
    }
   ],
   "source": [
    "#############################################\n",
    "#           Videoda kaç frame var           #\n",
    "#############################################\n",
    "\n",
    "cap = cv2.VideoCapture(src_path)\n",
    "length = int(cap.get(cv2.CAP_PROP_FRAME_COUNT))\n",
    "print(length)"
   ]
  }
 ],
 "metadata": {
  "kernelspec": {
   "display_name": "yolov7",
   "language": "python",
   "name": "python3"
  },
  "language_info": {
   "codemirror_mode": {
    "name": "ipython",
    "version": 3
   },
   "file_extension": ".py",
   "mimetype": "text/x-python",
   "name": "python",
   "nbconvert_exporter": "python",
   "pygments_lexer": "ipython3",
   "version": "3.9.17"
  },
  "orig_nbformat": 4
 },
 "nbformat": 4,
 "nbformat_minor": 2
}
