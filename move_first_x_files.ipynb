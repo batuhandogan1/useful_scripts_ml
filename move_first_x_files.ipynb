{
 "cells": [
  {
   "cell_type": "code",
   "execution_count": 2,
   "metadata": {},
   "outputs": [],
   "source": [
    "import os\n",
    "import shutil"
   ]
  },
  {
   "cell_type": "code",
   "execution_count": 9,
   "metadata": {},
   "outputs": [],
   "source": [
    "src_path = '/home/bdogan/all_files/ekin_files/tbatuhanl/traffic_light_detection/cvat_sets_titan/sum'\n",
    "dst_path = '/home/bdogan/all_files/ekin_files/tbatuhanl/traffic_light_detection/sum'\n",
    "\n",
    "files = os.listdir(src_path)\n",
    "files.sort()\n",
    "\n",
    "move_count = 1_000_000\n",
    "\n",
    "for file in files:\n",
    "    if move_count == 0:\n",
    "        break\n",
    "\n",
    "    # shutil.move(src_path + '/' + file, dst_path + '/' + file)\n",
    "    shutil.copy(src_path + '/' + file, dst_path + '/' + file)\n",
    "\n",
    "    move_count -= 1"
   ]
  },
  {
   "cell_type": "code",
   "execution_count": 4,
   "metadata": {},
   "outputs": [],
   "source": [
    "#################################\n",
    "#     If file endswith jpg      #\n",
    "#################################\n",
    "\n",
    "\n",
    "src_path = '/home/bdogan/all_files/ekin_files/gun_detection/gun_detection_stage_1_dataset/temp/'\n",
    "dst_path = '/home/bdogan/all_files/ekin_files/gun_detection/gun_detection_stage_1_dataset/1/'\n",
    "\n",
    "files = os.listdir(src_path)\n",
    "files.sort()\n",
    "\n",
    "move_count = 5_000\n",
    "\n",
    "for file in files:\n",
    "    if file.endswith('.jpg'):\n",
    "        if move_count == 0:\n",
    "            break\n",
    "\n",
    "        shutil.copy(src_path + '/' + file, dst_path + '/' + file)\n",
    "\n",
    "        move_count -= 1\n"
   ]
  },
  {
   "cell_type": "code",
   "execution_count": 3,
   "metadata": {},
   "outputs": [],
   "source": [
    "######################################\n",
    "#     Move image and annotation      #\n",
    "#            Based on txt            #\n",
    "######################################\n",
    "\n",
    "source_path = '/home/bdogan/all_files/ekin_files/test_new_models/20k_avustralya_character_train/temp'\n",
    "export_path = '/home/bdogan/all_files/ekin_files/test_new_models/20k_avustralya_character_train/test'\n",
    "\n",
    "move_count = 2000\n",
    "\n",
    "files = os.listdir(source_path)\n",
    "files.sort()\n",
    "\n",
    "for file in files:\n",
    "    if move_count == 0:\n",
    "        break\n",
    "    if file.endswith('.txt'):\n",
    "        arr = file.split('.txt')\n",
    "        shutil.move(source_path + '/' + arr[0] + '.jpg', export_path + '/' + arr[0] + '.jpg')\n",
    "        shutil.move(source_path + '/' + arr[0] + '.txt', export_path + '/' + arr[0] + '.txt')\n",
    "\n",
    "        move_count -= 1"
   ]
  }
 ],
 "metadata": {
  "kernelspec": {
   "display_name": "yolov7",
   "language": "python",
   "name": "python3"
  },
  "language_info": {
   "codemirror_mode": {
    "name": "ipython",
    "version": 3
   },
   "file_extension": ".py",
   "mimetype": "text/x-python",
   "name": "python",
   "nbconvert_exporter": "python",
   "pygments_lexer": "ipython3",
   "version": "3.9.17"
  }
 },
 "nbformat": 4,
 "nbformat_minor": 2
}
