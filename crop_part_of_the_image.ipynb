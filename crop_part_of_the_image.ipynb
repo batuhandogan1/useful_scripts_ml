{
 "cells": [
  {
   "cell_type": "code",
   "execution_count": 1,
   "metadata": {},
   "outputs": [],
   "source": [
    "import cv2\n",
    "import os"
   ]
  },
  {
   "cell_type": "code",
   "execution_count": null,
   "metadata": {},
   "outputs": [],
   "source": [
    "src_path = '/home/bdogan/Downloads/processedTrafficLight_23/processedTrafficLight'\n",
    "dst_path = '/home/bdogan/Downloads/5/'\n",
    "\n",
    "images = os.listdir(src_path)\n",
    "dst_images = os.listdir(dst_path)\n",
    "\n",
    "for image in images:\n",
    "    if image not in dst_images and image.endswith('.jpg'):\n",
    "        img = cv2.imread(src_path + '/' + image)\n",
    "\n",
    "        cropped_image = img[0:199, 0:650] # (y1:y2 , x1:x2)\n",
    "\n",
    "        cv2.imwrite(dst_path + '/' + image, cropped_image)"
   ]
  }
 ],
 "metadata": {
  "kernelspec": {
   "display_name": "yolov7",
   "language": "python",
   "name": "python3"
  },
  "language_info": {
   "codemirror_mode": {
    "name": "ipython",
    "version": 3
   },
   "file_extension": ".py",
   "mimetype": "text/x-python",
   "name": "python",
   "nbconvert_exporter": "python",
   "pygments_lexer": "ipython3",
   "version": "3.9.17"
  },
  "orig_nbformat": 4
 },
 "nbformat": 4,
 "nbformat_minor": 2
}
