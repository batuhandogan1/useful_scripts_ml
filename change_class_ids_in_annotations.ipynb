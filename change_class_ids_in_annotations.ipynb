{
 "cells": [
  {
   "cell_type": "code",
   "execution_count": 7,
   "metadata": {},
   "outputs": [],
   "source": [
    "import os"
   ]
  },
  {
   "cell_type": "code",
   "execution_count": 6,
   "metadata": {},
   "outputs": [],
   "source": [
    "path = '/home/bdogan/all_files/ekin_files/vehicle_type_stage_5/ingiltere_12/ingiltere_12.v1i.darknet/train/'\n",
    "\n",
    "files = os.listdir(path)\n",
    "\n",
    "count = 0\n",
    "\n",
    "for file in files:\n",
    "    if file.endswith('.txt'):\n",
    "\n",
    "        reading_file = open(path + file,\"r\")\n",
    "        new_str = \"\"\n",
    "\n",
    "        for line in reading_file:\n",
    "            if (line[0] == '4'):                                    # Change this number (ex:6)\n",
    "                new_line=(line[0].replace(line[0],'3')+line[1:])    # With this number (ex:5)\n",
    "                new_str += new_line\n",
    "            else:\n",
    "                new_line=line\n",
    "                new_str += new_line\n",
    "\n",
    "        writing_file = open(path + file,\"w\")\n",
    "        writing_file.write(new_str)\n",
    "        writing_file.close()"
   ]
  },
  {
   "cell_type": "code",
   "execution_count": null,
   "metadata": {},
   "outputs": [],
   "source": [
    "# Move every data doesn't contain xth class\n",
    "\n",
    "\n",
    "import shutil\n",
    "\n",
    "path = 'C:/Users/batuhan/Desktop/first export coco/'\n",
    "export_path = 'C:/Users/batuhan/Desktop/first export coco annotated/'\n",
    "\n",
    "files = os.listdir(path)\n",
    "\n",
    "for file in files:\n",
    "    if file.endswith('.txt'):\n",
    "        temp = []\n",
    "        new_arr = []\n",
    "\n",
    "        reading_file = open(path + file,\"r\")\n",
    "\n",
    "        for line in reading_file:\n",
    "            new_arr.append(line[0])\n",
    "        \n",
    "        reading_file.close()\n",
    "\n",
    "        if ('3' not in new_arr):\n",
    "            temp = file.split('.')\n",
    "            shutil.move(path + temp[0] + '.jpg', export_path + temp[0] + '.jpg')\n",
    "            shutil.move(path + temp[0] + '.txt', export_path + temp[0] + '.txt')"
   ]
  }
 ],
 "metadata": {
  "kernelspec": {
   "display_name": "yolov7",
   "language": "python",
   "name": "python3"
  },
  "language_info": {
   "codemirror_mode": {
    "name": "ipython",
    "version": 3
   },
   "file_extension": ".py",
   "mimetype": "text/x-python",
   "name": "python",
   "nbconvert_exporter": "python",
   "pygments_lexer": "ipython3",
   "version": "3.9.17"
  },
  "orig_nbformat": 4
 },
 "nbformat": 4,
 "nbformat_minor": 2
}
