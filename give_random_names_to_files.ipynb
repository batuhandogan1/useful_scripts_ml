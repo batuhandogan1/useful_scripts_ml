{
 "cells": [
  {
   "cell_type": "code",
   "execution_count": 1,
   "metadata": {},
   "outputs": [],
   "source": [
    "# Dosya ismine rastgele isimler ver"
   ]
  },
  {
   "cell_type": "code",
   "execution_count": 1,
   "metadata": {},
   "outputs": [],
   "source": [
    "import uuid\n",
    "import os\n",
    "import shutil"
   ]
  },
  {
   "cell_type": "code",
   "execution_count": 2,
   "metadata": {},
   "outputs": [],
   "source": [
    "def give_random_name():\n",
    "\n",
    "    filename = str(uuid.uuid4())\n",
    "    arr = filename.split('-')\n",
    "    \n",
    "    return arr[0]"
   ]
  },
  {
   "cell_type": "code",
   "execution_count": 3,
   "metadata": {},
   "outputs": [],
   "source": [
    "# Dosya yolunu ver içinde ne varsa ismin rastgele değiştirecektir\n",
    "file_path = '/home/bdogan/Desktop/data2'\n",
    "export_path = '/home/bdogan/Desktop/data3'\n",
    "\n",
    "files = os.listdir(file_path)\n",
    "\n",
    "for file in files:\n",
    "    os.rename(file_path + '/' + file, export_path + '/' + give_random_name() + '.jpg') # Dosya uzantısı ne ise onu ekle"
   ]
  },
  {
   "cell_type": "code",
   "execution_count": 3,
   "metadata": {},
   "outputs": [],
   "source": [
    "# Hem fotoğraf hem etiketi değiştirir\n",
    "\n",
    "source_path = '/home/bdogan/Desktop/temp'\n",
    "export_path = '/home/bdogan/Desktop/tmp'\n",
    "\n",
    "files = os.listdir(source_path)\n",
    "\n",
    "random_name = give_random_name()\n",
    "\n",
    "for file in files:\n",
    "    if file.endswith('.jpg'):\n",
    "        random_name = give_random_name()\n",
    "        arr = file.split('.jpg')\n",
    "        shutil.copy(source_path + '/' + file, export_path + '/' + random_name + '.jpg')\n",
    "        shutil.copy(source_path + '/' + arr[0] + '.txt', export_path + '/' + random_name + '.txt')"
   ]
  },
  {
   "cell_type": "code",
   "execution_count": 3,
   "metadata": {},
   "outputs": [],
   "source": [
    "# Dosyanın içindeki birden fazla dosyanın içindeki images ve labels klasörlerindeki dosyalara girer ismini değiştirim dst_path e atar\n",
    "\n",
    "\n",
    "src_path = '/home/bdogan/Desktop/usa_plate_set/'\n",
    "dst_path = '/home/bdogan/Desktop/sum_dataset/'\n",
    "\n",
    "files = os.listdir(src_path)\n",
    "\n",
    "for file in files:\n",
    "    images = os.listdir(src_path + file + '/' + 'images')\n",
    "\n",
    "    for image in images:\n",
    "        random_name = give_random_name()\n",
    "        temp = image.split('.jpg')\n",
    "        shutil.copy(src_path + file + '/' + 'images' + '/' + temp[0] + '.jpg', dst_path + random_name + '.jpg')\n",
    "        shutil.copy(src_path + file + '/' + 'labels' + '/' + temp[0] + '.txt', dst_path + random_name + '.txt')"
   ]
  }
 ],
 "metadata": {
  "kernelspec": {
   "display_name": "yolov7",
   "language": "python",
   "name": "python3"
  },
  "language_info": {
   "codemirror_mode": {
    "name": "ipython",
    "version": 3
   },
   "file_extension": ".py",
   "mimetype": "text/x-python",
   "name": "python",
   "nbconvert_exporter": "python",
   "pygments_lexer": "ipython3",
   "version": "3.9.17"
  },
  "orig_nbformat": 4
 },
 "nbformat": 4,
 "nbformat_minor": 2
}
